{
 "cells": [
  {
   "cell_type": "markdown",
   "id": "d822c4d8-b8ca-489a-ad3f-72d255bf129c",
   "metadata": {},
   "source": [
    "# Bayesian Inference"
   ]
  },
  {
   "cell_type": "markdown",
   "id": "f0956d39-88f3-4134-92d3-f5680ba76dc0",
   "metadata": {},
   "source": [
    "## Bayes Theorem and Implementation"
   ]
  },
  {
   "cell_type": "markdown",
   "id": "74ad7c34-bc0e-4c79-8909-6410ea5d468e",
   "metadata": {
    "jp-MarkdownHeadingCollapsed": true
   },
   "source": [
    "**Bayes' Theorem**\n",
    "\n",
    "$$\n",
    "P(A|B) = \\frac{P(B|A) \\cdot P(A)}{P(B)}\n",
    "$$\n",
    "\n",
    "where:\n",
    "\n",
    "$$\n",
    "P(B) = P(B|A) \\cdot P(A) + P(B|\\neg A) \\cdot P(\\neg A)\n",
    "$$\n",
    "\n",
    "$$\n",
    "P(A|B) = \\frac{P(B|A) \\cdot P(A)}{P(B|A) \\cdot P(A) + P(B|\\neg A) \\cdot (1 - P(A))}\n",
    "$$\n"
   ]
  },
  {
   "cell_type": "code",
   "execution_count": 1,
   "id": "a7f6c009-45da-409f-80f2-da9fd97cbd4d",
   "metadata": {},
   "outputs": [],
   "source": [
    "# 1. Bayes Theorem\n",
    "\n",
    "def bayes_theorem(\n",
    "    prior_A: float,\n",
    "    likelihood_B_given_A: float,\n",
    "    likelihood_B_given_not_A: float\n",
    "):\n",
    "    \"\"\"\n",
    "    Computes P(A|B) using Bayes' Theorem.\n",
    "\n",
    "    Parameters:\n",
    "    prior_A (float) : P(A) - Prior probability of A (e.g., having the disease).\n",
    "    likelihood_B_given_A (float) : P(B|A) - Likelihood of B given A (e.g., testing positive given disease).\n",
    "    likelihood_B_given_not_A (float) : P(B|¬A) - Likelihood of B given NOT A (false positive rate).\n",
    "\n",
    "    Returns:\n",
    "    float : P(A|B) - Posterior probability of A given B.\n",
    "    \"\"\"\n",
    "    prior_not_A = 1 - prior_A # P(¬A) - Probability of NOT having the disease\n",
    "    # Total probability of B (the test being positive)\n",
    "    marginal_B = (likelihood_B_given_A * prior_A) + (likelihood_B_given_not_A * prior_not_A)\n",
    "    # Apply Bayes' Theorem\n",
    "    posterior_A_given_B = (likelihood_B_given_A * prior_A) / marginal_B\n",
    "    return posterior_A_given_B"
   ]
  },
  {
   "cell_type": "markdown",
   "id": "bacea394-d67b-4c0a-b8e6-6cddbd62f487",
   "metadata": {},
   "source": [
    "In the Disease Testing Example:\n",
    "- A = \"Person has the disease.\"\n",
    "- B = \"Person tests positive.\""
   ]
  },
  {
   "cell_type": "code",
   "execution_count": 2,
   "id": "c22b76f1-c148-4d2e-a4ee-53108ef7f63d",
   "metadata": {},
   "outputs": [
    {
     "name": "stdout",
     "output_type": "stream",
     "text": [
      "P(Disease | Positive) = 0.1610\n"
     ]
    }
   ],
   "source": [
    "# Given values for the disease test scenario\n",
    "prior_A = 0.01  # Prior probability of disease (1% of the population)\n",
    "likelihood_B_given_A = 0.95  # Sensitivity (True Positive Rate)\n",
    "likelihood_B_given_not_A = 0.05  # False Positive Rate\n",
    "\n",
    "# Call the bayes_theorem function to calculate the posterior probability\n",
    "posterior_A_given_B = bayes_theorem(prior_A, likelihood_B_given_A, likelihood_B_given_not_A)\n",
    "\n",
    "# Print the result\n",
    "print(f\"P(Disease | Positive) = {posterior_A_given_B:.4f}\")"
   ]
  },
  {
   "cell_type": "code",
   "execution_count": 1,
   "id": "69c40ed2-93c6-420d-9615-b46c6a8c602a",
   "metadata": {},
   "outputs": [
    {
     "data": {
      "application/vnd.jupyter.widget-view+json": {
       "model_id": "ed05897025d546d2a58624df3b95c4a7",
       "version_major": 2,
       "version_minor": 0
      },
      "text/plain": [
       "interactive(children=(FloatSlider(value=0.01, description='P(A)', max=1.0, min=0.001, step=0.01), FloatSlider(…"
      ]
     },
     "execution_count": 1,
     "metadata": {},
     "output_type": "execute_result"
    }
   ],
   "source": [
    "import ipywidgets as widgets\n",
    "import matplotlib.pyplot as plt\n",
    "import numpy as np\n",
    "from IPython.display import display\n",
    "\n",
    "def bayes_theorem(prior_A, likelihood_B_given_A, likelihood_B_given_not_A):\n",
    "    \"\"\"\n",
    "    Computes P(A|B) using Bayes' Theorem.\n",
    "\n",
    "    Parameters:\n",
    "    prior_A (float) : P(A) - Prior probability of A (e.g., having the disease).\n",
    "    likelihood_B_given_A (float) : P(B|A) - Likelihood of B given A (e.g., testing positive given disease).\n",
    "    likelihood_B_given_not_A (float) : P(B|¬A) - Likelihood of B given NOT A (false positive rate).\n",
    "\n",
    "    Returns:\n",
    "    float : P(A|B) - Posterior probability of A given B.\n",
    "    \"\"\"\n",
    "    prior_not_A = 1 - prior_A  # P(¬A)\n",
    "\n",
    "    # Total probability of B (the test being positive)\n",
    "    marginal_B = (likelihood_B_given_A * prior_A) + (likelihood_B_given_not_A * prior_not_A)\n",
    "\n",
    "    # Apply Bayes' Theorem\n",
    "    posterior_A_given_B = (likelihood_B_given_A * prior_A) / marginal_B\n",
    "    return posterior_A_given_B\n",
    "\n",
    "def update_plot(prior_A, likelihood_B_given_A, likelihood_B_given_not_A):\n",
    "    \"\"\"\n",
    "    Updates the Bayes' Theorem plot dynamically.\n",
    "    \"\"\"\n",
    "    result = bayes_theorem(prior_A, likelihood_B_given_A, likelihood_B_given_not_A)\n",
    "\n",
    "    # Bar plot to visualize probabilities\n",
    "    labels = ['Prior P(A)', 'Likelihood P(B|A)', 'False Positive P(B|¬A)', 'Posterior P(A|B)']\n",
    "    values = [prior_A, likelihood_B_given_A, likelihood_B_given_not_A, result]\n",
    "\n",
    "    plt.figure(figsize=(8, 5))\n",
    "    plt.bar(labels, values, color=['blue', 'orange', 'red', 'green'])\n",
    "    plt.ylim(0, 1)\n",
    "    plt.ylabel('Probability')\n",
    "    plt.title('Bayes Theorem Probability Visualization')\n",
    "    plt.grid(axis='y', linestyle='--', alpha=0.7)\n",
    "    \n",
    "    # Show percentage labels\n",
    "    for i, v in enumerate(values):\n",
    "        plt.text(i, v + 0.02, f\"{v:.2f}\", ha='center', fontsize=12, fontweight='bold')\n",
    "\n",
    "    plt.show()\n",
    "    \n",
    "# Interactive sliders for Jupyter Notebook\n",
    "prior_A_slider = widgets.FloatSlider(min=0.001, max=1, step=0.01, value=0.01, description='P(A)')\n",
    "likelihood_B_given_A_slider = widgets.FloatSlider(min=0, max=1, step=0.01, value=0.95, description='P(B|A)')\n",
    "likelihood_B_given_not_A_slider = widgets.FloatSlider(min=0, max=1, step=0.01, value=0.05, description='P(B|¬A)')\n",
    "\n",
    "# Interactive output\n",
    "widgets.interactive(update_plot, \n",
    "                    prior_A=prior_A_slider, \n",
    "                    likelihood_B_given_A=likelihood_B_given_A_slider, \n",
    "                    likelihood_B_given_not_A=likelihood_B_given_not_A_slider)\n"
   ]
  },
  {
   "cell_type": "markdown",
   "id": "374376d9-0d23-4eb8-8c05-6b3d6a5edce6",
   "metadata": {},
   "source": [
    "## Bayes Engine"
   ]
  },
  {
   "cell_type": "markdown",
   "id": "a299bc5b-0685-4456-8087-edf25f52c55a",
   "metadata": {},
   "source": [
    "To demonstrate how Bayes' Theorem works and how the prior probability is updated to a posterior probability as more data is observed, we can create a Bayesian engine in Python that gradually updates the belief (posterior) based on new evidence.\n",
    "\n",
    "This will simulate the process where the prior (initial belief) gets updated with new observations, moving closer to the true probability as more data is observed.\n",
    "\n",
    "Steps to Demonstrate Bayes' Theorem in Action:\n",
    "Start with an initial prior probability \n",
    "𝑃\n",
    "(\n",
    "𝐴\n",
    ")\n",
    "P(A), representing your belief about the state of the world before any evidence is observed.\n",
    "Introduce new evidence over time, where each piece of data will provide a likelihood \n",
    "𝑃\n",
    "(\n",
    "𝐵\n",
    "∣\n",
    "𝐴\n",
    ")\n",
    "P(B∣A) (likelihood of the evidence given the state) and \n",
    "𝑃\n",
    "(\n",
    "𝐵\n",
    "∣\n",
    "¬\n",
    "𝐴\n",
    ")\n",
    "P(B∣¬A) (likelihood of the evidence given the negation of the state).\n",
    "Use Bayes' Theorem to update the posterior probability \n",
    "𝑃\n",
    "(\n",
    "𝐴\n",
    "∣\n",
    "𝐵\n",
    ")\n",
    "P(A∣B), which represents your belief after incorporating the new evidence.\n"
   ]
  },
  {
   "cell_type": "markdown",
   "id": "e12f22c0-7fd5-4807-a9b5-dc775597bac2",
   "metadata": {},
   "source": [
    "We will simulate this process where:\n",
    "\n",
    "The prior probability is updated as more data is observed.\n",
    "The posterior probability reflects this updated belief after each piece of new data (evidence)."
   ]
  },
  {
   "cell_type": "code",
   "execution_count": 3,
   "id": "840ee094-ade5-449a-933c-80849cfde0f8",
   "metadata": {},
   "outputs": [
    {
     "data": {
      "image/png": "[encoded data removed]",
      "text/plain": [
       "<Figure size 1000x600 with 1 Axes>"
      ]
     },
     "metadata": {},
     "output_type": "display_data"
    },
    {
     "name": "stdout",
     "output_type": "stream",
     "text": [
      "Final Posterior Probability after 10 observations: 1.0000\n"
     ]
    }
   ],
   "source": [
    "import matplotlib.pyplot as plt\n",
    "\n",
    "def bayes_theorem(prior_A, likelihood_B_given_A, likelihood_B_given_not_A):\n",
    "    \"\"\"\n",
    "    Computes P(A|B) using Bayes' Theorem.\n",
    "\n",
    "    Parameters:\n",
    "    prior_A (float) : P(A) - Prior probability of A (e.g., having the disease).\n",
    "    likelihood_B_given_A (float) : P(B|A) - Likelihood of B given A (e.g., testing positive given disease).\n",
    "    likelihood_B_given_not_A (float) : P(B|¬A) - Likelihood of B given NOT A (false positive rate).\n",
    "\n",
    "    Returns:\n",
    "    float : P(A|B) - Posterior probability of A given B.\n",
    "    \"\"\"\n",
    "    prior_not_A = 1 - prior_A # P(¬A) - Probability of NOT having the disease\n",
    "    # Total probability of B (the test being positive)\n",
    "    marginal_B = (likelihood_B_given_A * prior_A) + (likelihood_B_given_not_A * prior_not_A)\n",
    "    # Apply Bayes' Theorem\n",
    "    posterior_A_given_B = (likelihood_B_given_A * prior_A) / marginal_B\n",
    "    return posterior_A_given_B\n",
    "\n",
    "# Simulation settings\n",
    "prior_A = 0.01  # Initial belief: 1% chance of disease\n",
    "likelihood_B_given_A = 0.95  # Sensitivity (True Positive Rate)\n",
    "likelihood_B_given_not_A = 0.05  # False Positive Rate\n",
    "\n",
    "# Number of observations to simulate\n",
    "num_observations = 10\n",
    "\n",
    "# Lists to store results for plotting\n",
    "priors = [prior_A]\n",
    "posteriors = [prior_A]\n",
    "\n",
    "# Simulate the process of observing data and updating the belief\n",
    "for i in range(num_observations):\n",
    "    # Update the posterior probability given new data (new positive test result)\n",
    "    posterior_A_given_B = bayes_theorem(priors[-1], likelihood_B_given_A, likelihood_B_given_not_A)\n",
    "    posteriors.append(posterior_A_given_B)\n",
    "    priors.append(posterior_A_given_B)  # Update the prior for the next iteration\n",
    "\n",
    "# Plotting the transformation of the prior to the posterior as more data is observed\n",
    "plt.figure(figsize=(10, 6))\n",
    "plt.plot(range(num_observations + 1), priors, label=\"Prior Probability\", marker='o')\n",
    "plt.plot(range(num_observations + 1), posteriors, label=\"Posterior Probability\", marker='x')\n",
    "plt.xlabel(\"Number of Observations\")\n",
    "plt.ylabel(\"Probability\")\n",
    "plt.title(\"Transformation of Prior to Posterior with More Data (Bayes' Theorem)\")\n",
    "plt.legend()\n",
    "plt.grid(True)\n",
    "plt.show()\n",
    "\n",
    "# Output the final posterior probability after all observations\n",
    "print(f\"Final Posterior Probability after {num_observations} observations: {posteriors[-1]:.4f}\")\n"
   ]
  },
  {
   "cell_type": "markdown",
   "id": "a1a96d23-8b23-4967-b341-d9bfbd11e9ff",
   "metadata": {},
   "source": [
    "**Explanation of Code:**\n",
    "- We start with a prior probability \n",
    "𝑃\n",
    "(\n",
    "𝐴\n",
    ")\n",
    "P(A) of having the disease (e.g., 1% of the population has the disease).\n",
    "- Each time we \"observe\" new evidence (in this case, a positive test result), we apply Bayes' Theorem to update our belief:\n",
    "$$\n",
    "P(A|B) = \\frac{P(B|A) \\cdot P(A)}{P(B)}\n",
    "$$\n",
    "\n",
    "    where:\n",
    "\n",
    "$$\n",
    "P(B) = P(B|A) \\cdot P(A) + P(B|\\neg A) \\cdot P(\\neg A)\n",
    "$$\n",
    "\n",
    "- After each observation, the posterior is used as the new prior for the next update.\n",
    "- We plot the prior and posterior values for each observation to visualize the evolution of belief over time."
   ]
  }
 ],
 "metadata": {
  "kernelspec": {
   "display_name": "Python 3 (ipykernel)",
   "language": "python",
   "name": "python3"
  },
  "language_info": {
   "codemirror_mode": {
    "name": "ipython",
    "version": 3
   },
   "file_extension": ".py",
   "mimetype": "text/x-python",
   "name": "python",
   "nbconvert_exporter": "python",
   "pygments_lexer": "ipython3",
   "version": "3.12.0"
  }
 },
 "nbformat": 4,
 "nbformat_minor": 5
}
